{
 "cells": [
  {
   "cell_type": "markdown",
   "metadata": {},
   "source": [
    "# CS156 2.2\n",
    "## Class notes\n",
    "Lecture: https://freevideolectures.com/Course/2257/Machine-Learning/3\n",
    "Reading: https://en.wikipedia.org/wiki/Bias%E2%80%93variance_tradeoff\n",
    "\n",
    "### Bias-variance decomposition\n",
    "$$E[(y-\\hat{f}(x))^2] = (Bias[\\hat{f}(x)])^2 + Var[\\hat{f}(x)] + \\sigma^2$$\n",
    "\n",
    "Where:\n",
    "\n",
    "$$Bias[\\hat{f}(x)] = E[\\hat{f}(x)-f(x)]$$\n",
    "$$Var[\\hat{f}(x)] = E[\\hat{f}(x)^2]-(E[\\hat{f}(x)])^2$$\n",
    "\n",
    "## Facebook Regression:\n",
    "\n",
    "The following dataset has been prepared here: https://drive.google.com/a/minerva.kgi.edu/file/d/0B2UmDN6hOx7IR0lIZG1qYTlPR0k/view?usp=sharing\n",
    "\n",
    "\n",
    "Now do the following:\n",
    "\n",
    "1. Build a regression model by minimizing the mean squared error (MSE) to predict any one of:\n",
    "\n",
    "comments, likes, shares\n",
    "\n",
    "2. Using your model, quantify how much the different input variables predict the influence of a post. Is there any interesting or unexpected behavior that your model predicts?\n",
    "\n",
    "3. Make sure that your model is easily-accessible when in class and is able to predict new data of the same format, and quantify how well your model is doing. Ideally this will include plots of the new data and your predictions.\n",
    "\n",
    "This dataset is slightly modified from the original:\n",
    "\n",
    "Moro, S., Rita, P., & Vala, B. (2016). Predicting social media performance metrics and evaluation of the impact on brand building: A data mining approach. Journal of Business Research, 69(9), 3341-3351."
   ]
  },
  {
   "cell_type": "code",
   "execution_count": 3,
   "metadata": {},
   "outputs": [
    {
     "data": {
      "text/html": [
       "<div>\n",
       "<style scoped>\n",
       "    .dataframe tbody tr th:only-of-type {\n",
       "        vertical-align: middle;\n",
       "    }\n",
       "\n",
       "    .dataframe tbody tr th {\n",
       "        vertical-align: top;\n",
       "    }\n",
       "\n",
       "    .dataframe thead th {\n",
       "        text-align: right;\n",
       "    }\n",
       "</style>\n",
       "<table border=\"1\" class=\"dataframe\">\n",
       "  <thead>\n",
       "    <tr style=\"text-align: right;\">\n",
       "      <th></th>\n",
       "      <th>total_followers</th>\n",
       "      <th>type</th>\n",
       "      <th>category</th>\n",
       "      <th>month</th>\n",
       "      <th>weekday</th>\n",
       "      <th>hour</th>\n",
       "      <th>paid</th>\n",
       "      <th>comment</th>\n",
       "      <th>like</th>\n",
       "      <th>share</th>\n",
       "      <th>is_photo</th>\n",
       "      <th>is_link</th>\n",
       "      <th>cat2</th>\n",
       "      <th>cat3</th>\n",
       "    </tr>\n",
       "  </thead>\n",
       "  <tbody>\n",
       "    <tr>\n",
       "      <th>0</th>\n",
       "      <td>124050</td>\n",
       "      <td>Photo</td>\n",
       "      <td>3</td>\n",
       "      <td>6</td>\n",
       "      <td>4</td>\n",
       "      <td>17</td>\n",
       "      <td>1</td>\n",
       "      <td>3</td>\n",
       "      <td>77</td>\n",
       "      <td>16</td>\n",
       "      <td>True</td>\n",
       "      <td>False</td>\n",
       "      <td>False</td>\n",
       "      <td>True</td>\n",
       "    </tr>\n",
       "    <tr>\n",
       "      <th>1</th>\n",
       "      <td>132556</td>\n",
       "      <td>Photo</td>\n",
       "      <td>2</td>\n",
       "      <td>8</td>\n",
       "      <td>3</td>\n",
       "      <td>24</td>\n",
       "      <td>0</td>\n",
       "      <td>11</td>\n",
       "      <td>313</td>\n",
       "      <td>50</td>\n",
       "      <td>True</td>\n",
       "      <td>False</td>\n",
       "      <td>True</td>\n",
       "      <td>False</td>\n",
       "    </tr>\n",
       "    <tr>\n",
       "      <th>2</th>\n",
       "      <td>92786</td>\n",
       "      <td>Photo</td>\n",
       "      <td>2</td>\n",
       "      <td>2</td>\n",
       "      <td>6</td>\n",
       "      <td>17</td>\n",
       "      <td>1</td>\n",
       "      <td>2</td>\n",
       "      <td>145</td>\n",
       "      <td>39</td>\n",
       "      <td>True</td>\n",
       "      <td>False</td>\n",
       "      <td>True</td>\n",
       "      <td>False</td>\n",
       "    </tr>\n",
       "    <tr>\n",
       "      <th>3</th>\n",
       "      <td>135632</td>\n",
       "      <td>Photo</td>\n",
       "      <td>1</td>\n",
       "      <td>9</td>\n",
       "      <td>2</td>\n",
       "      <td>1</td>\n",
       "      <td>0</td>\n",
       "      <td>2</td>\n",
       "      <td>299</td>\n",
       "      <td>49</td>\n",
       "      <td>True</td>\n",
       "      <td>False</td>\n",
       "      <td>False</td>\n",
       "      <td>False</td>\n",
       "    </tr>\n",
       "    <tr>\n",
       "      <th>4</th>\n",
       "      <td>139540</td>\n",
       "      <td>Link</td>\n",
       "      <td>1</td>\n",
       "      <td>12</td>\n",
       "      <td>3</td>\n",
       "      <td>17</td>\n",
       "      <td>1</td>\n",
       "      <td>7</td>\n",
       "      <td>229</td>\n",
       "      <td>21</td>\n",
       "      <td>False</td>\n",
       "      <td>True</td>\n",
       "      <td>False</td>\n",
       "      <td>False</td>\n",
       "    </tr>\n",
       "  </tbody>\n",
       "</table>\n",
       "</div>"
      ],
      "text/plain": [
       "   total_followers   type  category  month  weekday  hour  paid  comment  \\\n",
       "0           124050  Photo         3      6        4    17     1        3   \n",
       "1           132556  Photo         2      8        3    24     0       11   \n",
       "2            92786  Photo         2      2        6    17     1        2   \n",
       "3           135632  Photo         1      9        2     1     0        2   \n",
       "4           139540   Link         1     12        3    17     1        7   \n",
       "\n",
       "   like  share  is_photo  is_link   cat2   cat3  \n",
       "0    77     16      True    False  False   True  \n",
       "1   313     50      True    False   True  False  \n",
       "2   145     39      True    False   True  False  \n",
       "3   299     49      True    False  False  False  \n",
       "4   229     21     False     True  False  False  "
      ]
     },
     "execution_count": 3,
     "metadata": {},
     "output_type": "execute_result"
    }
   ],
   "source": [
    "import pandas  as  pd\n",
    "\n",
    "data = pd.read_csv(\"facebook_train.csv\")\n",
    "# data2 = pd.read_csv(\"facebook_test.csv\")\n",
    "\n",
    "data[\"is_photo\"] = [d == \"Photo\" for d in data.type]\n",
    "data[\"is_link\"]  = [d == \"Link\" for d in data.type]\n",
    "data[\"cat2\"]  = [d == 2 for d in data.category]\n",
    "data[\"cat3\"]  = [d == 3 for d in data.category]\n",
    "# data2[\"is_photo\"] = [d == \"Photo\" for d in data2.type]\n",
    "# data2[\"is_link\"]  = [d == \"Link\" for d in data2.type]\n",
    "# data2[\"cat2\"]  = [d == 2 for d in data2.category]\n",
    "# data2[\"cat3\"]  = [d == 3 for d in data2.category]\n",
    "data.head()"
   ]
  },
  {
   "cell_type": "code",
   "execution_count": 4,
   "metadata": {},
   "outputs": [
    {
     "name": "stdout",
     "output_type": "stream",
     "text": [
      "[-292182.86497592  -78727.37637072  -30738.18482526 -164792.10693481\n",
      "  -22997.88735437  -33586.23875448  -28864.47738896 -122220.39852632\n",
      "  -43824.71147828  -22445.41138623]\n"
     ]
    },
    {
     "data": {
      "text/plain": [
       "Lasso(alpha=0.1, copy_X=True, fit_intercept=True, max_iter=1000,\n",
       "   normalize=False, positive=False, precompute=False, random_state=None,\n",
       "   selection='cyclic', tol=0.0001, warm_start=False)"
      ]
     },
     "execution_count": 4,
     "metadata": {},
     "output_type": "execute_result"
    }
   ],
   "source": [
    "from sklearn import linear_model\n",
    "from sklearn.model_selection import train_test_split, cross_val_score\n",
    "from sklearn.metrics.scorer import mean_squared_error, mean_absolute_error, median_absolute_error, r2_score\n",
    "\n",
    "# define independent and dependent vars\n",
    "X, X_test, y, y_test = train_test_split(data[[\"total_followers\", \"month\", \"weekday\", \"hour\", \"is_photo\", \"is_link\", \"cat2\", \"cat3\", \"paid\"]], data.like, test_size = .25, shuffle = True)\n",
    "\n",
    "# simple linear model\n",
    "reg = linear_model.Lasso(alpha=0.1)\n",
    "\n",
    "print(cross_val_score(reg, X, y, cv=10, scoring='neg_mean_squared_error'))\n",
    "\n",
    "reg.fit(X, y)"
   ]
  },
  {
   "cell_type": "code",
   "execution_count": 5,
   "metadata": {},
   "outputs": [
    {
     "name": "stdout",
     "output_type": "stream",
     "text": [
      "('MSE', 78454.050868244827)\n",
      "('MSE test', 426291.81835916382)\n",
      "('MAE', 157.4182754415865)\n",
      "('MAE test', 224.5537585981445)\n",
      "('MedAE', 116.57412105980428)\n",
      "('MedAE test', 119.0927771938961)\n",
      "('r^2', 0.055505488417964877)\n",
      "('r^2 test', 0.0052279843997126152)\n"
     ]
    }
   ],
   "source": [
    "y_pred = reg.predict(X) \n",
    "y_t_pred = reg.predict(X_test) \n",
    "\n",
    "print(\"MSE\", mean_squared_error(y, y_pred))\n",
    "print(\"MSE test\", mean_squared_error(y_test, y_t_pred))\n",
    "print(\"MAE\", mean_absolute_error(y, y_pred))\n",
    "print(\"MAE test\", mean_absolute_error(y_test, y_t_pred))\n",
    "print(\"MedAE\", median_absolute_error(y, y_pred))\n",
    "print(\"MedAE test\", median_absolute_error(y_test, y_t_pred))\n",
    "print(\"r^2\", r2_score(y, y_pred))\n",
    "print(\"r^2 test\", r2_score(y_test, y_t_pred))"
   ]
  },
  {
   "cell_type": "code",
   "execution_count": 6,
   "metadata": {},
   "outputs": [
    {
     "data": {
      "text/plain": [
       "<matplotlib.collections.PathCollection at 0x8d56ef0>"
      ]
     },
     "execution_count": 6,
     "metadata": {},
     "output_type": "execute_result"
    },
    {
     "data": {
      "image/png": "[encoded data removed]",
      "text/plain": [
       "<matplotlib.figure.Figure at 0xa9e6a20>"
      ]
     },
     "metadata": {},
     "output_type": "display_data"
    }
   ],
   "source": [
    "import matplotlib.pyplot as plt\n",
    "% matplotlib inline\n",
    "\n",
    "plt.scatter(y, y_pred)\n",
    "plt.scatter(y_test, y_t_pred)"
   ]
  },
  {
   "cell_type": "markdown",
   "metadata": {},
   "source": [
    "## Casualty Classification\n",
    "\n",
    "The following dataset has been placed here: https://drive.google.com/a/minerva.kgi.edu/file/d/0B2UmDN6hOx7IOWpGMk05UlExeXc/view?usp=sharing\n",
    "\n",
    "casualty_class,gender,age,severe,pedestrian_location,pedestrian_movement,travel,year\n",
    "passenger,male,42,False,Unknown,N/A,car,2006\n",
    "passenger,female,19,False,Unknown,N/A,car,2006\n",
    "passenger,male,20,False,Unknown,N/A,car,2006\n",
    "passenger,female,18,False,Unknown,N/A,car,2006\n",
    "passenger,male,43,False,Unknown,N/A,car,2006\n",
    "passenger,male,20,False,Unknown,N/A,car,2006\n",
    "\n",
    "And the output variable will be severe, which indicates whether or not the person was severely injured or not.\n",
    "\n",
    "Now do the following:\n",
    "\n",
    "1. Build a classification model to predict whether a casualty is severe or not. Your model should aim to maximize the accuracy of its predictions.\n",
    "\n",
    "2. Using your model, quantify how much the different input variables predict the influence of a post. Is there any interesting or unexpected behavior that your model predicts?\n",
    "\n",
    "3. Make sure that your model is easily-accessible when in class and is able to predict new data of the same format, and quantify how well your model is doing. Ideally this will include plots of the new data and your predictions.\n",
    "\n",
    "This dataset is slightly modified from the original:\n",
    "\n",
    "Road Casualties by Severity. (2014, September 10). Retrieved February 23, 2017, from https://data.london.gov.uk/dataset/road-casualties-severity-borough"
   ]
  },
  {
   "cell_type": "code",
   "execution_count": null,
   "metadata": {},
   "outputs": [],
   "source": [
    "import pandas as pd"
   ]
  }
 ],
 "metadata": {
  "kernelspec": {
   "display_name": "Python 2",
   "language": "python",
   "name": "python2"
  },
  "language_info": {
   "codemirror_mode": {
    "name": "ipython",
    "version": 2
   },
   "file_extension": ".py",
   "mimetype": "text/x-python",
   "name": "python",
   "nbconvert_exporter": "python",
   "pygments_lexer": "ipython2",
   "version": "2.7.14"
  }
 },
 "nbformat": 4,
 "nbformat_minor": 2
}
