{
 "cells": [
  {
   "cell_type": "markdown",
   "metadata": {},
   "source": [
    "# CS156 2.2\n",
    "## Class notes\n",
    "Lecture: https://freevideolectures.com/Course/2257/Machine-Learning/3\n",
    "\n",
    "### Bias-variance decomposition\n",
    "$$E[(y-\\hat{f}(x))^2] = (Bias[\\hat{f}(x)])^2 + Var[\\hat{f}(x)] + \\sigma^2$$\n",
    "\n",
    "Where:\n",
    "\n",
    "$$Bias[\\hat{f}(x)] = E[\\hat{f}(x)-f(x)]$$\n",
    "$$Var[\\hat{f}(x)] = E[\\hat{f}(x)^2]-(E[\\hat{f}(x)])^2$$\n"
   ]
  },
  {
   "cell_type": "code",
   "execution_count": null,
   "metadata": {},
   "outputs": [],
   "source": []
  }
 ],
 "metadata": {
  "kernelspec": {
   "display_name": "Python 2",
   "language": "python",
   "name": "python2"
  },
  "language_info": {
   "codemirror_mode": {
    "name": "ipython",
    "version": 2
   },
   "file_extension": ".py",
   "mimetype": "text/x-python",
   "name": "python",
   "nbconvert_exporter": "python",
   "pygments_lexer": "ipython2",
   "version": "2.7.14"
  }
 },
 "nbformat": 4,
 "nbformat_minor": 2
}
